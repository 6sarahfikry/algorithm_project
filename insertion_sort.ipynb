{
 "cells": [
  {
   "cell_type": "code",
   "execution_count": 1,
   "id": "3ee3bd73",
   "metadata": {},
   "outputs": [
    {
     "name": "stdout",
     "output_type": "stream",
     "text": [
      "given array : 295761\n",
      "sorted array :  [1, 2, 5, 6, 7, 9]\n"
     ]
    }
   ],
   "source": [
    "# Python program for implementation of Insertion Sort\n",
    " \n",
    "def insertionSort(arr):\n",
    " \n",
    "    for i in range(1, len(arr)):\n",
    " \n",
    "        key = arr[i]\n",
    "        j = i-1\n",
    "        while j >= 0 and key < arr[j] :\n",
    "                arr[j + 1] = arr[j]\n",
    "                j -= 1\n",
    "        arr[j + 1] = key\n",
    " \n",
    " \n",
    "# get list of numbers from user to sort it\n",
    "arr = list(input(\"given array : \"))\n",
    "insertionSort(arr)\n",
    "l1=[]\n",
    "for i in range(len(arr)):\n",
    "    l1.append(int(arr[i]))\n",
    "print (\"sorted array : \" , l1)"
   ]
  },
  {
   "cell_type": "code",
   "execution_count": null,
   "id": "eb0f5e14",
   "metadata": {},
   "outputs": [],
   "source": []
  }
 ],
 "metadata": {
  "kernelspec": {
   "display_name": "Python 3",
   "language": "python",
   "name": "python3"
  },
  "language_info": {
   "codemirror_mode": {
    "name": "ipython",
    "version": 3
   },
   "file_extension": ".py",
   "mimetype": "text/x-python",
   "name": "python",
   "nbconvert_exporter": "python",
   "pygments_lexer": "ipython3",
   "version": "3.8.8"
  }
 },
 "nbformat": 4,
 "nbformat_minor": 5
}
